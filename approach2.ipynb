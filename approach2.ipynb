{
 "cells": [
  {
   "cell_type": "markdown",
   "metadata": {},
   "source": [
    "# DATA COLLECTION\n"
   ]
  },
  {
   "cell_type": "code",
   "execution_count": 1,
   "metadata": {},
   "outputs": [
    {
     "name": "stdout",
     "output_type": "stream",
     "text": [
      "WARNING:tensorflow:From d:\\projects\\Machine-Translation\\myenv\\Lib\\site-packages\\keras\\src\\losses.py:2976: The name tf.losses.sparse_softmax_cross_entropy is deprecated. Please use tf.compat.v1.losses.sparse_softmax_cross_entropy instead.\n",
      "\n",
      "Collecting data for class A\n"
     ]
    },
    {
     "ename": "error",
     "evalue": "OpenCV(4.9.0) D:\\a\\opencv-python\\opencv-python\\opencv\\modules\\imgcodecs\\src\\loadsave.cpp:786: error: (-215:Assertion failed) !_img.empty() in function 'cv::imwrite'\n",
     "output_type": "error",
     "traceback": [
      "\u001b[1;31m---------------------------------------------------------------------------\u001b[0m",
      "\u001b[1;31merror\u001b[0m                                     Traceback (most recent call last)",
      "Cell \u001b[1;32mIn[1], line 86\u001b[0m\n\u001b[0;32m     84\u001b[0m \u001b[38;5;28;01mif\u001b[39;00m hand_bbox \u001b[38;5;129;01mis\u001b[39;00m \u001b[38;5;129;01mnot\u001b[39;00m \u001b[38;5;28;01mNone\u001b[39;00m:\n\u001b[0;32m     85\u001b[0m     display \u001b[38;5;241m=\u001b[39m hand_bbox\n\u001b[1;32m---> 86\u001b[0m     \u001b[43mcv2\u001b[49m\u001b[38;5;241;43m.\u001b[39;49m\u001b[43mimwrite\u001b[49m\u001b[43m(\u001b[49m\u001b[43mos\u001b[49m\u001b[38;5;241;43m.\u001b[39;49m\u001b[43mpath\u001b[49m\u001b[38;5;241;43m.\u001b[39;49m\u001b[43mjoin\u001b[49m\u001b[43m(\u001b[49m\u001b[43mDATA_DIR\u001b[49m\u001b[43m,\u001b[49m\u001b[43m \u001b[49m\u001b[43mcategories\u001b[49m\u001b[43m[\u001b[49m\u001b[43mj\u001b[49m\u001b[43m]\u001b[49m\u001b[43m,\u001b[49m\u001b[43m \u001b[49m\u001b[38;5;124;43m'\u001b[39;49m\u001b[38;5;132;43;01m{}\u001b[39;49;00m\u001b[38;5;124;43m.jpg\u001b[39;49m\u001b[38;5;124;43m'\u001b[39;49m\u001b[38;5;241;43m.\u001b[39;49m\u001b[43mformat\u001b[49m\u001b[43m(\u001b[49m\u001b[43mcounter\u001b[49m\u001b[43m)\u001b[49m\u001b[43m)\u001b[49m\u001b[43m,\u001b[49m\u001b[43m \u001b[49m\u001b[43mimg_crop\u001b[49m\u001b[43m)\u001b[49m\n\u001b[0;32m     87\u001b[0m \u001b[38;5;28;01melse\u001b[39;00m:\n\u001b[0;32m     88\u001b[0m     display \u001b[38;5;241m=\u001b[39m frame\n",
      "\u001b[1;31merror\u001b[0m: OpenCV(4.9.0) D:\\a\\opencv-python\\opencv-python\\opencv\\modules\\imgcodecs\\src\\loadsave.cpp:786: error: (-215:Assertion failed) !_img.empty() in function 'cv::imwrite'\n"
     ]
    },
    {
     "ename": "",
     "evalue": "",
     "output_type": "error",
     "traceback": [
      "\u001b[1;31mThe Kernel crashed while executing code in the current cell or a previous cell. \n",
      "\u001b[1;31mPlease review the code in the cell(s) to identify a possible cause of the failure. \n",
      "\u001b[1;31mClick <a href='https://aka.ms/vscodeJupyterKernelCrash'>here</a> for more info. \n",
      "\u001b[1;31mView Jupyter <a href='command:jupyter.viewOutput'>log</a> for further details."
     ]
    }
   ],
   "source": [
    "import os\n",
    "import mediapipe as mp\n",
    "import cv2\n",
    "\n",
    "\n",
    "mp_draw = mp.solutions.drawing_utils\n",
    "mp_hands = mp.solutions.hands\n",
    "detector = mp.solutions.hands.Hands(static_image_mode= False, min_detection_confidence= 0.5, min_tracking_confidence= 0.5, max_num_hands= 2)\n",
    "\n",
    "\n",
    "def calcBoundaryBox(landmark_list, h, w):\n",
    "    space = 25\n",
    "    x_coord = []\n",
    "    y_coord = []\n",
    "    for landmark in landmark_list:\n",
    "        x_coord.append(landmark.x)\n",
    "        y_coord.append(landmark.y)\n",
    "\n",
    "    return round(min(x_coord) * w) - space, round(min(y_coord) * h) - space, round(max(x_coord) * w) + space, round(max(y_coord) * h) + space\n",
    "\n",
    "\n",
    "def draw_hands(imgae):\n",
    "    height, width = imgae.shape[:-1]\n",
    "\n",
    "    hand_landmarks = detector.process(imgae)\n",
    "\n",
    "    if hand_landmarks.multi_hand_landmarks:\n",
    "        for num, hand in enumerate(hand_landmarks.multi_hand_landmarks):\n",
    "            xmin, ymin, xmax, ymax = calcBoundaryBox(hand.landmark, height, width)\n",
    "            return imgae[xmin:xmax , ymin:ymax] ,cv2.rectangle(imgae, (xmin-20, ymin-20), (xmax+20, ymax+20), (0, 0, 0), 4), (xmin, ymin, xmax, ymax)\n",
    "    else:\n",
    "        return None , None , None\n",
    "\n",
    "\n",
    "\n",
    "\n",
    "DATA_DIR = './data'\n",
    "if not os.path.exists(DATA_DIR):\n",
    "    os.makedirs(DATA_DIR)\n",
    "\n",
    "categories = {  0: \"A\",\n",
    "                1: \"B\",\n",
    "                2: \"C\",\n",
    "                3: \"D\",\n",
    "                4: \"E\",\n",
    "                5: \"F\",\n",
    "                6: \"G\",\n",
    "                7: \"H\",\n",
    "                8: \"I\",\n",
    "                9: \"K\",\n",
    "                10: \"L\",\n",
    "                11: \"O\",\n",
    "                12: \"c\",\n",
    "                13: \"W\",\n",
    "                14:\"Y\",\n",
    "                15:\"5\"\n",
    "                }\n",
    "dataset_size = 150\n",
    "number_of_classes = 15\n",
    "\n",
    "cap = cv2.VideoCapture(0)\n",
    "for j in range(number_of_classes):\n",
    "    if not os.path.exists(os.path.join(DATA_DIR, categories[j])):\n",
    "        os.makedirs(os.path.join(DATA_DIR, categories[j]))\n",
    "\n",
    "    print('Collecting data for class {}'.format(categories[j]))\n",
    "\n",
    "    done = False\n",
    "    while True:\n",
    "        ret, frame = cap.read()\n",
    "        cv2.putText(frame, 'Ready? Press \"Q\" ! :)', (100, 50), cv2.FONT_HERSHEY_SIMPLEX, 1.3, (0, 255, 0), 3,\n",
    "                    cv2.LINE_AA)\n",
    "        frame = cv2.flip(frame, 1)\n",
    "        cv2.imshow('frame', frame)\n",
    "        if cv2.waitKey(40) == ord('q'):\n",
    "            break\n",
    "\n",
    "    counter = 0\n",
    "    while counter < dataset_size:\n",
    "        ret, frame = cap.read()\n",
    "        frame = cv2.flip(frame, 1)\n",
    "        hand_bbox = frame\n",
    "        img_crop ,hand_bbox , coords = draw_hands(hand_bbox)\n",
    "        if hand_bbox is not None:\n",
    "            display = hand_bbox\n",
    "            cv2.imwrite(os.path.join(DATA_DIR, categories[j], '{}.jpg'.format(counter)), img_crop)\n",
    "        else:\n",
    "            display = frame\n",
    "        cv2.imshow('frame', display)\n",
    "        cv2.waitKey(40)\n",
    "\n",
    "        counter += 1\n",
    "\n",
    "cap.release()\n",
    "cv2.destroyAllWindows()\n"
   ]
  },
  {
   "cell_type": "code",
   "execution_count": null,
   "metadata": {},
   "outputs": [],
   "source": []
  }
 ],
 "metadata": {
  "kernelspec": {
   "display_name": "Python 3",
   "language": "python",
   "name": "python3"
  },
  "language_info": {
   "codemirror_mode": {
    "name": "ipython",
    "version": 3
   },
   "file_extension": ".py",
   "mimetype": "text/x-python",
   "name": "python",
   "nbconvert_exporter": "python",
   "pygments_lexer": "ipython3",
   "version": "3.11.0"
  }
 },
 "nbformat": 4,
 "nbformat_minor": 2
}
